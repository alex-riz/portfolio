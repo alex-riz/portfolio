{
 "cells": [
  {
   "cell_type": "code",
   "execution_count": null,
   "id": "d20d6710-ed5d-4012-b26b-d807e941502c",
   "metadata": {},
   "outputs": [],
   "source": [
    "#Installs:\n",
    "!pip3 install torch\n",
    "!pip3 install pandas\n",
    "!pip3 install torchvision"
   ]
  },
  {
   "cell_type": "code",
   "execution_count": 1,
   "id": "62f79a54-589d-4688-9527-c1844c7d719a",
   "metadata": {},
   "outputs": [
    {
     "data": {
      "text/plain": [
       "True"
      ]
     },
     "execution_count": 1,
     "metadata": {},
     "output_type": "execute_result"
    }
   ],
   "source": [
    "import torch\n",
    "torch.cuda.is_available()\n"
   ]
  },
  {
   "cell_type": "code",
   "execution_count": 2,
   "id": "cddcbd05-07dc-41aa-8ed5-148de7c644cc",
   "metadata": {},
   "outputs": [],
   "source": [
    "import os\n",
    "import pandas as pd\n",
    "from torchvision.io import read_image\n",
    "from torch.utils.data import DataLoader\n",
    "from PIL import Image\n",
    "from torchvision import transforms\n",
    "\n",
    "labels_dict_float = {\n",
    "    'cutie_carton': torch.tensor([1.0, 0.0, 0.0, 0.0, 0.0, 0.0]),\n",
    "    'gunoi_menajer': torch.tensor([0.0, 1.0, 0.0, 0.0, 0.0, 0.0]),\n",
    "    'hartie_carton': torch.tensor([0.0, 0.0, 1.0, 0.0, 0.0, 0.0]),\n",
    "    'metal': torch.tensor([0.0, 0.0, 0.0, 1.0, 0.0, 0.0]),\n",
    "    'sticla': torch.tensor([0.0, 0.0, 0.0, 0.0, 1.0, 0.0]),\n",
    "    'sticla_plastic': torch.tensor([0.0, 0.0, 0.0, 0.0, 0.0, 1.0])\n",
    "}\n",
    "\n",
    "\n",
    "\n",
    "class CustomImageDataset():\n",
    "    def __init__(self, img_dir, transform=None, target_transform=None):\n",
    "        self.img_dir = img_dir\n",
    "        self.transform = transform\n",
    "        self.target_transform = target_transform\n",
    "\n",
    "    def __len__(self):\n",
    "\n",
    "        files = os.listdir(self.img_dir)\n",
    "        return len(files)\n",
    "\n",
    "\n",
    "    def __getitem__(self, idx):\n",
    "        \n",
    "        files = os.listdir(self.img_dir)\n",
    "        img_path = os.path.join(self.img_dir, files[idx])        \n",
    "        image = Image.open(img_path).convert(\"RGB\")\n",
    "        resized_img = image.resize((224, 224))\n",
    "\n",
    "        transform = transforms.ToTensor()\n",
    "        final_img = transform(resized_img)\n",
    "\n",
    "        \n",
    "        no_extension = files[idx].split('.', 1)[0]\n",
    "        no_numbers = ''.join([i for i in no_extension if not i.isdigit()])\n",
    "        label = no_numbers[:len(no_numbers)-1]\n",
    "        tensor_label = labels_dict_float[label]\n",
    "        \n",
    "        if self.transform:\n",
    "            image = self.transform(final_img)\n",
    "        if self.target_transform:\n",
    "            label = self.target_transform(tensor_label)\n",
    "        return final_img, tensor_label\n",
    "\n"
   ]
  },
  {
   "cell_type": "code",
   "execution_count": 7,
   "id": "d4c006ee-2603-40e6-a7d1-38a5f26eab1a",
   "metadata": {},
   "outputs": [
    {
     "name": "stdout",
     "output_type": "stream",
     "text": [
      "torch.Size([16, 3, 224, 224])\n",
      "tensor([[0., 0., 0., 0., 1., 0.],\n",
      "        [0., 0., 0., 0., 1., 0.],\n",
      "        [1., 0., 0., 0., 0., 0.],\n",
      "        [0., 0., 0., 0., 1., 0.],\n",
      "        [0., 0., 0., 0., 0., 1.],\n",
      "        [0., 0., 0., 0., 0., 1.],\n",
      "        [1., 0., 0., 0., 0., 0.],\n",
      "        [0., 0., 0., 1., 0., 0.],\n",
      "        [0., 0., 1., 0., 0., 0.],\n",
      "        [0., 0., 0., 1., 0., 0.],\n",
      "        [1., 0., 0., 0., 0., 0.],\n",
      "        [0., 0., 0., 1., 0., 0.],\n",
      "        [0., 0., 0., 1., 0., 0.],\n",
      "        [1., 0., 0., 0., 0., 0.],\n",
      "        [0., 0., 0., 0., 1., 0.],\n",
      "        [0., 0., 0., 0., 0., 1.]])\n"
     ]
    }
   ],
   "source": [
    "from torchvision import transforms\n",
    "batch_size = 16\n",
    "train = DataLoader(CustomImageDataset(\"/home/alex/Documents/hackitall/dataset/data\"), batch_size=batch_size)\n",
    "train_features, train_labels = next(iter(train))\n",
    "print(train_features.shape)\n",
    "print(train_labels)"
   ]
  },
  {
   "cell_type": "code",
   "execution_count": 4,
   "id": "f9454165-339a-413d-ae37-4e62f104eaf1",
   "metadata": {},
   "outputs": [
    {
     "name": "stderr",
     "output_type": "stream",
     "text": [
      "/home/alex/.local/lib/python3.10/site-packages/torchvision/models/_utils.py:208: UserWarning: The parameter 'pretrained' is deprecated since 0.13 and may be removed in the future, please use 'weights' instead.\n",
      "  warnings.warn(\n",
      "/home/alex/.local/lib/python3.10/site-packages/torchvision/models/_utils.py:223: UserWarning: Arguments other than a weight enum or `None` for 'weights' are deprecated since 0.13 and may be removed in the future. The current behavior is equivalent to passing `weights=VGG16_Weights.IMAGENET1K_V1`. You can also use `weights=VGG16_Weights.DEFAULT` to get the most up-to-date weights.\n",
      "  warnings.warn(msg)\n"
     ]
    }
   ],
   "source": [
    "from torchvision import models\n",
    "net = models.vgg16(pretrained = True)"
   ]
  },
  {
   "cell_type": "code",
   "execution_count": 5,
   "id": "e8499806-8866-4cd3-99ce-87bb8cc01986",
   "metadata": {},
   "outputs": [
    {
     "data": {
      "text/plain": [
       "VGG(\n",
       "  (features): Sequential(\n",
       "    (0): Conv2d(3, 64, kernel_size=(3, 3), stride=(1, 1), padding=(1, 1))\n",
       "    (1): ReLU(inplace=True)\n",
       "    (2): Conv2d(64, 64, kernel_size=(3, 3), stride=(1, 1), padding=(1, 1))\n",
       "    (3): ReLU(inplace=True)\n",
       "    (4): MaxPool2d(kernel_size=2, stride=2, padding=0, dilation=1, ceil_mode=False)\n",
       "    (5): Conv2d(64, 128, kernel_size=(3, 3), stride=(1, 1), padding=(1, 1))\n",
       "    (6): ReLU(inplace=True)\n",
       "    (7): Conv2d(128, 128, kernel_size=(3, 3), stride=(1, 1), padding=(1, 1))\n",
       "    (8): ReLU(inplace=True)\n",
       "    (9): MaxPool2d(kernel_size=2, stride=2, padding=0, dilation=1, ceil_mode=False)\n",
       "    (10): Conv2d(128, 256, kernel_size=(3, 3), stride=(1, 1), padding=(1, 1))\n",
       "    (11): ReLU(inplace=True)\n",
       "    (12): Conv2d(256, 256, kernel_size=(3, 3), stride=(1, 1), padding=(1, 1))\n",
       "    (13): ReLU(inplace=True)\n",
       "    (14): Conv2d(256, 256, kernel_size=(3, 3), stride=(1, 1), padding=(1, 1))\n",
       "    (15): ReLU(inplace=True)\n",
       "    (16): MaxPool2d(kernel_size=2, stride=2, padding=0, dilation=1, ceil_mode=False)\n",
       "    (17): Conv2d(256, 512, kernel_size=(3, 3), stride=(1, 1), padding=(1, 1))\n",
       "    (18): ReLU(inplace=True)\n",
       "    (19): Conv2d(512, 512, kernel_size=(3, 3), stride=(1, 1), padding=(1, 1))\n",
       "    (20): ReLU(inplace=True)\n",
       "    (21): Conv2d(512, 512, kernel_size=(3, 3), stride=(1, 1), padding=(1, 1))\n",
       "    (22): ReLU(inplace=True)\n",
       "    (23): MaxPool2d(kernel_size=2, stride=2, padding=0, dilation=1, ceil_mode=False)\n",
       "    (24): Conv2d(512, 512, kernel_size=(3, 3), stride=(1, 1), padding=(1, 1))\n",
       "    (25): ReLU(inplace=True)\n",
       "    (26): Conv2d(512, 512, kernel_size=(3, 3), stride=(1, 1), padding=(1, 1))\n",
       "    (27): ReLU(inplace=True)\n",
       "    (28): Conv2d(512, 512, kernel_size=(3, 3), stride=(1, 1), padding=(1, 1))\n",
       "    (29): ReLU(inplace=True)\n",
       "    (30): MaxPool2d(kernel_size=2, stride=2, padding=0, dilation=1, ceil_mode=False)\n",
       "  )\n",
       "  (avgpool): AdaptiveAvgPool2d(output_size=(7, 7))\n",
       "  (classifier): Sequential(\n",
       "    (0): Linear(in_features=25088, out_features=4096, bias=True)\n",
       "    (1): ReLU(inplace=True)\n",
       "    (2): Dropout(p=0.5, inplace=False)\n",
       "    (3): Linear(in_features=4096, out_features=4096, bias=True)\n",
       "    (4): ReLU(inplace=True)\n",
       "    (5): Dropout(p=0.5, inplace=False)\n",
       "    (6): Linear(in_features=4096, out_features=1000, bias=True)\n",
       "  )\n",
       ")"
      ]
     },
     "execution_count": 5,
     "metadata": {},
     "output_type": "execute_result"
    }
   ],
   "source": [
    "net"
   ]
  },
  {
   "cell_type": "code",
   "execution_count": null,
   "id": "aee9bf93-6243-4f19-b05a-9bca9562f3e4",
   "metadata": {},
   "outputs": [],
   "source": [
    "import torch.nn as nn\n",
    "net.classifier[6] = nn.Linear(in_features=4096, out_features=6)\n",
    "net.train()"
   ]
  },
  {
   "cell_type": "code",
   "execution_count": null,
   "id": "5acd7c3b-2ff9-4cc7-943f-c99ea572db62",
   "metadata": {},
   "outputs": [],
   "source": [
    "    for param in net.parameters():\n",
    "        param.requires_grad = False\n",
    "\n",
    "    for param in net.classifier.parameters():\n",
    "        param.requires_grad = True\n"
   ]
  },
  {
   "cell_type": "code",
   "execution_count": null,
   "id": "8178af7a-8191-4386-944e-b2af310425fd",
   "metadata": {},
   "outputs": [],
   "source": [
    "import torch.optim as optim\n",
    "cuda = torch.device('cuda')\n",
    "\n",
    "criterion = nn.CrossEntropyLoss()\n",
    "optimizer = optim.SGD(net.classifier.parameters(), lr=1e-3, momentum=0.9)\n",
    "\n",
    "net.to(cuda)\n",
    "criterion.to(cuda)\n"
   ]
  },
  {
   "cell_type": "code",
   "execution_count": null,
   "id": "46d7110b-38e8-4105-a370-8dee5513ae6a",
   "metadata": {},
   "outputs": [],
   "source": [
    "# training function\n",
    "import datetime\n",
    "\n",
    "def train_model(net, criterion, optimizer, num_epochs):\n",
    "    \n",
    "    # train = DataLoader(CustomImageDataset, batch_size = 32)\n",
    "    # cuda = torch.device('cuda')\n",
    "\n",
    "    for epoch in range (num_epochs):\n",
    "        for img, labels in train:\n",
    "            \n",
    "            img, labels = img.to(cuda), labels.to(cuda)\n",
    "\n",
    "            optimizer.zero_grad()\n",
    "            outputs = net(img)\n",
    "\n",
    "            loss = criterion(outputs, torch.tensor(labels))\n",
    "        \n",
    "            loss.backward()\n",
    "\n",
    "            optimizer.step()\n",
    "        print(epoch, datetime.datetime.now())"
   ]
  },
  {
   "cell_type": "code",
   "execution_count": null,
   "id": "183ef0cc-be9b-4126-99d2-fcf86d385543",
   "metadata": {},
   "outputs": [],
   "source": [
    "import gc\n",
    "num_epochs = 50\n",
    "\n",
    "gc.collect()\n",
    "torch.cuda.empty_cache()\n",
    "\n",
    "train_model(net, criterion, optimizer, num_epochs)"
   ]
  },
  {
   "cell_type": "code",
   "execution_count": null,
   "id": "6d27358e-16fd-45d0-ba80-36d99482a9bc",
   "metadata": {},
   "outputs": [],
   "source": [
    "torch.save(net.state_dict(), \"finetuned-vgg16.pth\")"
   ]
  },
  {
   "cell_type": "code",
   "execution_count": null,
   "id": "b6a43f88-cb27-40ff-94ca-17cf9f52c652",
   "metadata": {},
   "outputs": [],
   "source": [
    "imgs, labels = next(iter(train))"
   ]
  },
  {
   "cell_type": "code",
   "execution_count": null,
   "id": "c869ebce-3723-458b-b313-a7b3ec224c32",
   "metadata": {},
   "outputs": [],
   "source": [
    "net(imgs.to(cuda)).detach()"
   ]
  },
  {
   "cell_type": "code",
   "execution_count": 1,
   "id": "49939683-1ade-4666-b416-56ebb5a4e996",
   "metadata": {},
   "outputs": [
    {
     "name": "stderr",
     "output_type": "stream",
     "text": [
      "/home/alex/.local/lib/python3.10/site-packages/torchvision/models/_utils.py:208: UserWarning: The parameter 'pretrained' is deprecated since 0.13 and may be removed in the future, please use 'weights' instead.\n",
      "  warnings.warn(\n",
      "/home/alex/.local/lib/python3.10/site-packages/torchvision/models/_utils.py:223: UserWarning: Arguments other than a weight enum or `None` for 'weights' are deprecated since 0.13 and may be removed in the future. The current behavior is equivalent to passing `weights=None`.\n",
      "  warnings.warn(msg)\n"
     ]
    },
    {
     "data": {
      "text/plain": [
       "<All keys matched successfully>"
      ]
     },
     "execution_count": 1,
     "metadata": {},
     "output_type": "execute_result"
    }
   ],
   "source": [
    "import torch\n",
    "from torchvision import models\n",
    "import torch.nn as nn\n",
    "\n",
    "net = models.vgg16(pretrained = False)\n",
    "net.classifier[6] = nn.Linear(in_features=4096, out_features = 6)\n",
    "\n",
    "net.load_state_dict(torch.load('finetuned-vgg16.pth'))"
   ]
  },
  {
   "cell_type": "code",
   "execution_count": 14,
   "id": "65804bef-3734-4a66-ba7b-acf12759e8b8",
   "metadata": {},
   "outputs": [
    {
     "data": {
      "text/plain": [
       "tensor([4, 4, 0, 4, 5, 2, 0, 3, 2, 3, 0, 3, 3, 0, 4, 5])"
      ]
     },
     "execution_count": 14,
     "metadata": {},
     "output_type": "execute_result"
    }
   ],
   "source": [
    "yhat = net(train_features).detach()\n",
    "yhat.argmax(axis = 1)\n"
   ]
  },
  {
   "cell_type": "code",
   "execution_count": 15,
   "id": "ed665f1c-e447-4824-9584-4b6882527e57",
   "metadata": {},
   "outputs": [
    {
     "name": "stdout",
     "output_type": "stream",
     "text": [
      "tensor([[0., 0., 0., 0., 1., 0.],\n",
      "        [0., 0., 0., 0., 1., 0.],\n",
      "        [1., 0., 0., 0., 0., 0.],\n",
      "        [0., 0., 0., 0., 1., 0.],\n",
      "        [0., 0., 0., 0., 0., 1.],\n",
      "        [0., 0., 0., 0., 0., 1.],\n",
      "        [1., 0., 0., 0., 0., 0.],\n",
      "        [0., 0., 0., 1., 0., 0.],\n",
      "        [0., 0., 1., 0., 0., 0.],\n",
      "        [0., 0., 0., 1., 0., 0.],\n",
      "        [1., 0., 0., 0., 0., 0.],\n",
      "        [0., 0., 0., 1., 0., 0.],\n",
      "        [0., 0., 0., 1., 0., 0.],\n",
      "        [1., 0., 0., 0., 0., 0.],\n",
      "        [0., 0., 0., 0., 1., 0.],\n",
      "        [0., 0., 0., 0., 0., 1.]])\n"
     ]
    }
   ],
   "source": [
    "print(train_labels)"
   ]
  },
  {
   "cell_type": "code",
   "execution_count": 27,
   "id": "1ff50d87-f30e-4282-9e5b-54cb77e87fc4",
   "metadata": {},
   "outputs": [
    {
     "name": "stdout",
     "output_type": "stream",
     "text": [
      "Sticla\n",
      "Sticla\n",
      "Cutie de carton\n",
      "Sticla\n",
      "Sticla de Plastic\n",
      "Hartie/Carton\n",
      "Cutie de carton\n",
      "Metal\n",
      "Hartie/Carton\n",
      "Metal\n",
      "Cutie de carton\n",
      "Metal\n",
      "Metal\n",
      "Cutie de carton\n",
      "Sticla\n",
      "Sticla de Plastic\n"
     ]
    }
   ],
   "source": [
    "t = yhat.argmax(axis=1)\n",
    "\n",
    "dict = {\n",
    "    0: 'Cutie de carton',\n",
    "    1 : 'Gunoi menajer',\n",
    "    2 : 'Hartie/Carton',\n",
    "    3 : 'Metal',\n",
    "    4 : 'Sticla',\n",
    "    5 : 'Sticla de Plastic'\n",
    "}\n",
    "\n",
    "for i in t:\n",
    "    print(dict[i.item()])\n"
   ]
  },
  {
   "cell_type": "code",
   "execution_count": 4,
   "id": "5649e25d-1430-4de2-9f72-ba1869009be1",
   "metadata": {},
   "outputs": [
    {
     "name": "stdout",
     "output_type": "stream",
     "text": [
      "Sticla de Plastic\n"
     ]
    }
   ],
   "source": [
    "img_path = \"/home/alex/Documents/hackitall/image.jpeg\"\n",
    "image = Image.open(img_path).convert(\"RGB\")\n",
    "resized_img = image.resize((224, 224))\n",
    "\n",
    "convert_tensor = transforms.ToTensor()\n",
    "tensor_image = convert_tensor(resized_img)\n",
    "x = torch.unsqueeze(tensor_image, dim = 0)\n",
    "yhat = net(x).detach()\n",
    "i = yhat.argmax(axis = 1)\n",
    "\n",
    "dict = {\n",
    "    0: 'Cutie de carton',\n",
    "    1 : 'Gunoi menajer',\n",
    "    2 : 'Hartie/Carton',\n",
    "    3 : 'Metal',\n",
    "    4 : 'Sticla',\n",
    "    5 : 'Sticla de Plastic'\n",
    "}\n",
    "print(dict[i.item()])\n"
   ]
  },
  {
   "cell_type": "code",
   "execution_count": null,
   "id": "2dda1124-cf2a-4f65-97f4-d9c396ac1233",
   "metadata": {},
   "outputs": [],
   "source": []
  }
 ],
 "metadata": {
  "kernelspec": {
   "display_name": "Python 3 (ipykernel)",
   "language": "python",
   "name": "python3"
  },
  "language_info": {
   "codemirror_mode": {
    "name": "ipython",
    "version": 3
   },
   "file_extension": ".py",
   "mimetype": "text/x-python",
   "name": "python",
   "nbconvert_exporter": "python",
   "pygments_lexer": "ipython3",
   "version": "3.10.12"
  }
 },
 "nbformat": 4,
 "nbformat_minor": 5
}
